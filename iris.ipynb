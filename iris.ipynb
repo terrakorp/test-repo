{
  "nbformat": 4,
  "nbformat_minor": 0,
  "metadata": {
    "colab": {
      "name": "iris.ipynb",
      "provenance": [],
      "authorship_tag": "ABX9TyPHDP4JuSyxeYIL38klFBBs",
      "include_colab_link": true
    },
    "kernelspec": {
      "name": "python3",
      "display_name": "Python 3"
    },
    "language_info": {
      "name": "python"
    }
  },
  "cells": [
    {
      "cell_type": "markdown",
      "metadata": {
        "id": "view-in-github",
        "colab_type": "text"
      },
      "source": [
        "<a href=\"https://colab.research.google.com/github/terrakorp/test-repo/blob/master/iris.ipynb\" target=\"_parent\"><img src=\"https://colab.research.google.com/assets/colab-badge.svg\" alt=\"Open In Colab\"/></a>"
      ]
    },
    {
      "cell_type": "code",
      "execution_count": 1,
      "metadata": {
        "id": "s_ZAcVMkGWSP"
      },
      "outputs": [],
      "source": [
        "import math\n",
        "import matplotlib.pyplot as plt"
      ]
    },
    {
      "cell_type": "markdown",
      "source": [
        "#Librerias de aprendizaje de maquina\n",
        "Debido al uso extendido de los algoritmos de aprendizaje de máquina en el mundo, en los ultimos años han aparecido conjuntos de librerías de código que facilitan a los cientificos de datos y a los desarrolladores de aplicación las labores de desarrollo y prueba de modelos.\n",
        "\n",
        "Existen cuatro librerías ampliamente extendidas en ML:\n",
        "\n",
        "\n",
        "*   PANDAS\n",
        "          https://pandas.pydata.org/\n",
        "*   NumPy\n",
        "          https://numpy.org/\n",
        "*   SCIkit Learn\n",
        "          https://scikit-learn.org/stable/\n",
        "*   Pytorch\n",
        "          https://pytorch.org/\n",
        "\n",
        "\n",
        "##SCIKITLEARN \n",
        "Es una librería de ML que concentra los principales modelos de aprendizaje de máquina aplicado en áreas como\n",
        "* Preprocesamiento de datos\n",
        "* Clasificación\n",
        "* Agrupamientos\n",
        "\n",
        "\n",
        "Una de las ventajas de SCIKIT es la inclusion de conjuntos de datos (DATASETS) de prueba para facilitar la vida de los estudiantes y diseñadores de analisis de datos.\n",
        "\n",
        "\n",
        "\n",
        "\n",
        "\n",
        "\n",
        "\n",
        "\n",
        "\n"
      ],
      "metadata": {
        "id": "SmP4koZ_bjGg"
      }
    },
    {
      "cell_type": "markdown",
      "source": [
        "##NUMPY\n",
        "\n",
        "La librería numpy no está orientada específicamente al machine learning, sino que se trata de codigó diseñado para manipular conjuntos de datos en forma de arreglos y matrices de manera rápida y eficiente\n"
      ],
      "metadata": {
        "id": "ykAwYnQUet-U"
      }
    },
    {
      "cell_type": "code",
      "source": [
        "from sklearn import datasets"
      ],
      "metadata": {
        "id": "o5HSIC7WGZ5i"
      },
      "execution_count": 2,
      "outputs": []
    },
    {
      "cell_type": "code",
      "source": [
        "import  numpy as np\n",
        "# es posible describir un arreglo en numpy con array\n",
        "\n",
        "\n"
      ],
      "metadata": {
        "id": "W11PZhDEsvI3"
      },
      "execution_count": 7,
      "outputs": []
    },
    {
      "cell_type": "markdown",
      "source": [
        "Revisión de las dimensiones"
      ],
      "metadata": {
        "id": "aRbcJqvkvdOX"
      }
    },
    {
      "cell_type": "code",
      "source": [
        "a = np.array(42)\n",
        "b = np.array([1, 2, 3, 4, 5])\n",
        "c = np.array([[1, 2, 3], [4, 5, 6]])\n",
        "d = np.array([[[1, 2, 3], [4, 5, 6]], [[1, 2, 3], [4, 5, 6]]])"
      ],
      "metadata": {
        "id": "UO14fEO4uB-9"
      },
      "execution_count": 8,
      "outputs": []
    },
    {
      "cell_type": "code",
      "source": [
        "print(a.ndim)"
      ],
      "metadata": {
        "colab": {
          "base_uri": "https://localhost:8080/"
        },
        "id": "LUFjA6vYviQe",
        "outputId": "5f0ffeeb-0feb-40a6-c193-f71119799068"
      },
      "execution_count": 9,
      "outputs": [
        {
          "output_type": "stream",
          "name": "stdout",
          "text": [
            "0\n"
          ]
        }
      ]
    },
    {
      "cell_type": "markdown",
      "source": [
        "Para crear arreglos de multiples dimensiones"
      ],
      "metadata": {
        "id": "GMXD1slBvvsg"
      }
    },
    {
      "cell_type": "code",
      "source": [
        ""
      ],
      "metadata": {
        "id": "OQIeT6MXvtR4"
      },
      "execution_count": null,
      "outputs": []
    },
    {
      "cell_type": "markdown",
      "source": [
        "El manejo de indices dentro de n dimensiones es el convencional usado en matematica.\n"
      ],
      "metadata": {
        "id": "isWGszFZwt2t"
      }
    },
    {
      "cell_type": "code",
      "source": [
        ""
      ],
      "metadata": {
        "id": "qVEXFncqw10k"
      },
      "execution_count": null,
      "outputs": []
    },
    {
      "cell_type": "markdown",
      "source": [
        "##Array slicing: \n",
        "Permite seleccionar bloques de datos de un arreglo o matriz"
      ],
      "metadata": {
        "id": "vsutPbEdw3Gy"
      }
    },
    {
      "cell_type": "markdown",
      "source": [
        ""
      ],
      "metadata": {
        "id": "HEJHK4v-5gGq"
      }
    },
    {
      "cell_type": "code",
      "source": [
        ""
      ],
      "metadata": {
        "id": "ivM7G4lW7X5X"
      },
      "execution_count": null,
      "outputs": []
    },
    {
      "cell_type": "markdown",
      "source": [
        "##Números aleatorios y pseudoaleatorios\n",
        "Numpy dispone de un modulo para generar numeros aleatorios"
      ],
      "metadata": {
        "id": "dwXsHoil85PW"
      }
    },
    {
      "cell_type": "code",
      "source": [
        "from numpy import random"
      ],
      "metadata": {
        "id": "40vBfxaa9CYs"
      },
      "execution_count": 27,
      "outputs": []
    },
    {
      "cell_type": "code",
      "source": [
        ""
      ],
      "metadata": {
        "id": "22uVM_a098pq"
      },
      "execution_count": null,
      "outputs": []
    },
    {
      "cell_type": "markdown",
      "source": [
        "##Dataset IRIS\n",
        "Un conjunto de 150 registros que establecen las caracteristicas o features de tres tipos de planta específicos\n",
        "* SETOSA\n",
        "* VERSICOLOR\n",
        "* VIRGINICA\n",
        "\n",
        "cada muestra se compone de los datos de identificacion y de cuatro parametros medidos:\n",
        "* Ancho del pétalo\n",
        "* Longitud del pétalo\n",
        "* Ancho del sépalo\n",
        "* Longitud del sépalo\n",
        "\n"
      ],
      "metadata": {
        "id": "6pHrWA2pAG67"
      }
    },
    {
      "cell_type": "code",
      "source": [
        "from sklearn import datasets"
      ],
      "metadata": {
        "id": "u6Tt14k2C5pv"
      },
      "execution_count": 29,
      "outputs": []
    },
    {
      "cell_type": "code",
      "source": [
        ""
      ],
      "metadata": {
        "id": "znDMVyMtC8U4"
      },
      "execution_count": null,
      "outputs": []
    }
  ]
}